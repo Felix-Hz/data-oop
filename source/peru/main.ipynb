{
 "cells": [
  {
   "attachments": {},
   "cell_type": "markdown",
   "metadata": {},
   "source": [
    "# Peru\n"
   ]
  },
  {
   "cell_type": "code",
   "execution_count": 1,
   "metadata": {},
   "outputs": [],
   "source": [
    "import sys\n",
    "import os\n",
    "import timeit\n",
    "import warnings\n",
    "import pandas as pd\n",
    "\n",
    "sys.path.append('../../')\n",
    "\n",
    "from utils.analysis.clean import wrangling\n",
    "from utils.general.export_api import export_API\n",
    "from utils.analysis.data_anual import annual_data\n",
    "from utils.analysis.top_imports import top_importers\n",
    "from utils.analysis.origins_vol import analyzing_origins\n",
    "\n",
    "pd.options.display.max_rows = None\n",
    "pd.options.display.max_columns = None\n",
    "pd.options.display.max_colwidth = None\n",
    "\n",
    "warnings.simplefilter(\"ignore\")"
   ]
  },
  {
   "cell_type": "code",
   "execution_count": 3,
   "metadata": {},
   "outputs": [],
   "source": [
    "start_time = timeit.default_timer()"
   ]
  },
  {
   "cell_type": "code",
   "execution_count": 4,
   "metadata": {},
   "outputs": [],
   "source": [
    "                    ### ~~~ ###\n",
    "                ###     PATH     ###\n",
    "                    ### ~~~ ###\n",
    "\n",
    "locations_dict = {\n",
    "    # 283525\n",
    "    'location_25_2013' : '../../data/peru/283525/283525_Importaciones_2013.xlsx',\n",
    "    'location_25_2014' : '../../data/peru/283525/283525_Importaciones_2014.xlsx',\n",
    "    'location_25_2015' : '../../data/peru/283525/283525_Importaciones_2015.xlsx',\n",
    "    'location_25_2016' : '../../data/peru/283525/283525_Importaciones_2016.xlsx',\n",
    "    'location_25_2017' : '../../data/peru/283525/283525_Importaciones_2017.xlsx',\n",
    "    'location_25_2018' : '../../data/peru/283525/283525_Importaciones_2018.xlsx',\n",
    "    'location_25_2019' : '../../data/peru/283525/283525_Importaciones_2019.xlsx',\n",
    "    'location_25_2020' : '../../data/peru/283525/283525_Importaciones_2020.xlsx',\n",
    "    'location_25_2021' : '../../data/peru/283525/283525_Importaciones_2021.xlsx',\n",
    "    'location_25_2022' : '../../data/peru/283525/283525_Importaciones_2022.xlsx',\n",
    "    'location_25_2023' : '../../data/peru/283525/283525_Importaciones_2023.xlsx',\n",
    "    # 283526\n",
    "    'location_26_2013' : '../../data/peru/283526/283526_Importaciones_2013.xlsx',\n",
    "    'location_26_2014' : '../../data/peru/283526/283526_Importaciones_2014.xlsx',\n",
    "    'location_26_2015' : '../../data/peru/283526/283526_Importaciones_2015.xlsx',\n",
    "    'location_26_2016' : '../../data/peru/283526/283526_Importaciones_2016.xlsx',\n",
    "    'location_26_2017' : '../../data/peru/283526/283526_Importaciones_2017.xlsx',\n",
    "    'location_26_2018' : '../../data/peru/283526/283526_Importaciones_2018.xlsx',\n",
    "    'location_26_2019' : '../../data/peru/283526/283526_Importaciones_2019.xlsx',\n",
    "    'location_26_2020' : '../../data/peru/283526/283526_Importaciones_2020.xlsx',\n",
    "    'location_26_2021' : '../../data/peru/283526/283526_Importaciones_2021.xlsx',\n",
    "    'location_26_2022' : '../../data/peru/283526/283526_Importaciones_2022.xlsx',\n",
    "    # 310430\n",
    "    'location_31_2013' : '../../data/peru/310430/310430_Importaciones_2013.xlsx',\n",
    "    'location_31_2014' : '../../data/peru/310430/310430_Importaciones_2014.xlsx',\n",
    "    'location_31_2015' : '../../data/peru/310430/310430_Importaciones_2015.xlsx',\n",
    "    'location_31_2016' : '../../data/peru/310430/310430_Importaciones_2016.xlsx',\n",
    "    'location_31_2017' : '../../data/peru/310430/310430_Importaciones_2017.xlsx',\n",
    "    'location_31_2018' : '../../data/peru/310430/310430_Importaciones_2018.xlsx',\n",
    "    'location_31_2019' : '../../data/peru/310430/310430_Importaciones_2019.xlsx',\n",
    "    'location_31_2020' : '../../data/peru/310430/310430_Importaciones_2020.xlsx',\n",
    "    'location_31_2021' : '../../data/peru/310430/310430_Importaciones_2021.xlsx',\n",
    "    'location_31_2022' : '../../data/peru/310430/310430_Importaciones_2022.xlsx',\n",
    "}\n"
   ]
  },
  {
   "cell_type": "code",
   "execution_count": 5,
   "metadata": {},
   "outputs": [],
   "source": [
    "dfs = []"
   ]
  },
  {
   "cell_type": "code",
   "execution_count": 6,
   "metadata": {},
   "outputs": [
    {
     "name": "stdout",
     "output_type": "stream",
     "text": [
      "> The total amount of dfs is:\n",
      "  31\n"
     ]
    }
   ],
   "source": [
    "                    ### ~~~ ###\n",
    "                ###     DATA     ###\n",
    "                    ### ~~~ ###\n",
    "\n",
    "\"\"\"\n",
    "    dynamically read my data and append it to the main dfs list container\n",
    "\"\"\"\n",
    "\n",
    "for key, value in locations_dict.items():\n",
    "    df_name = f\"data{key[-8:]}\"\n",
    "    df_name = pd.read_excel(value, engine=\"openpyxl\")\n",
    "    dfs.append(df_name)\n",
    "\n",
    "print(f\"> The total amount of dfs is:\\n  {len(dfs)}\")"
   ]
  },
  {
   "cell_type": "code",
   "execution_count": null,
   "metadata": {},
   "outputs": [],
   "source": [
    "# get quick desc of the dfs\n",
    "print(\"> This df has the following (rows, cols):\\n___________________\")\n",
    "\n",
    "for df in dfs:\n",
    "    year = df['Fecha'].iloc[0].year\n",
    "    ncm = df['Código NCM'].iloc[0]\n",
    "    print(f\"> {ncm} ({year}): {df.shape}\\n~~~~~~~~~~~~~~~~~~~\")\n"
   ]
  },
  {
   "cell_type": "code",
   "execution_count": null,
   "metadata": {},
   "outputs": [],
   "source": [
    "# see the cols on the base df\n",
    "col = [col for col in dfs[0].columns]\n",
    "col"
   ]
  },
  {
   "cell_type": "code",
   "execution_count": null,
   "metadata": {},
   "outputs": [],
   "source": [
    " # deletes airway products, standardizes (uniforms NCMs, and creates a unitary U$S price), filters per target price, removes outliers & drops nulls\n",
    "results_dfs = wrangling(dfs)"
   ]
  },
  {
   "cell_type": "code",
   "execution_count": null,
   "metadata": {},
   "outputs": [],
   "source": [
    "print(\"> Price stats per year/ton:\\n___________________\")\n",
    "\n",
    "last_iterated_year = None\n",
    "\n",
    "for df in results_dfs:\n",
    "    if df is None or df.empty:\n",
    "        print(\n",
    "            f\"<!!!> No data available for {last_iterated_year+1}\\n~~~~~~~~~~~~~~~~~~~\")\n",
    "    else:\n",
    "        year = df['Fecha'].iloc[0].year\n",
    "        print(\n",
    "            f\"- For {df['Código NCM'].iloc[0]} ({year}):\\n{df['U$S Unitario'].describe()}\\n~~~~~~~~~~~~~~~~~~~\")\n",
    "        last_iterated_year = year\n"
   ]
  },
  {
   "cell_type": "code",
   "execution_count": null,
   "metadata": {},
   "outputs": [],
   "source": [
    "# annual total volume for each NCM code in the provided DataFrames\n",
    "annual_data = annual_data(results_dfs)\n",
    "# exports results to spreadsheet\n",
    "# export_API(annual_data)\n",
    "annual_data\n"
   ]
  },
  {
   "cell_type": "code",
   "execution_count": null,
   "metadata": {},
   "outputs": [],
   "source": [
    "# top three importers for each year of a given NCM\n",
    "top_importers = top_importers(results_dfs)\n",
    "# exports results to spreadsheet\n",
    "# export_API(top_importadores)\n",
    "top_importers\n"
   ]
  },
  {
   "cell_type": "code",
   "execution_count": null,
   "metadata": {},
   "outputs": [],
   "source": [
    "# origin of imported goods over multiple years\n",
    "origins_analysis = analyzing_origins(results_dfs)\n",
    "# export to spreadsheet\n",
    "# export_API(analisis_origenes)\n",
    "origins_analysis"
   ]
  },
  {
   "cell_type": "code",
   "execution_count": null,
   "metadata": {},
   "outputs": [],
   "source": [
    "# measuring notebook's time of execution\n",
    "end_time = timeit.default_timer()\n",
    "execution_time = end_time - start_time\n",
    "\n",
    "print(f\"> Execution Time of the Notebook:\\n  {execution_time:.2f} seconds\")"
   ]
  }
 ],
 "metadata": {
  "kernelspec": {
   "display_name": "venv",
   "language": "python",
   "name": "python3"
  },
  "language_info": {
   "codemirror_mode": {
    "name": "ipython",
    "version": 3
   },
   "file_extension": ".py",
   "mimetype": "text/x-python",
   "name": "python",
   "nbconvert_exporter": "python",
   "pygments_lexer": "ipython3",
   "version": "3.10.9"
  },
  "orig_nbformat": 4
 },
 "nbformat": 4,
 "nbformat_minor": 2
}
